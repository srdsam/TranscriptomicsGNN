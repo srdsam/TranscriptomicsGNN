{
 "cells": [
  {
   "cell_type": "markdown",
   "id": "72fbdc24-ab73-4b6d-ba0f-25839b5f6b2d",
   "metadata": {},
   "source": [
    "# Cell Type Annotations by Graph\n",
    "\n",
    "Given a annotated AnnData object, train a graph neural network that identifies marker genes for cell types."
   ]
  },
  {
   "cell_type": "markdown",
   "id": "f324ef13-23e8-4a1e-8e49-81067b424349",
   "metadata": {},
   "source": [
    "### Imports"
   ]
  },
  {
   "cell_type": "code",
   "execution_count": 1,
   "id": "4a32795d-e2f9-46bf-aa2b-082a4c7ad732",
   "metadata": {},
   "outputs": [
    {
     "name": "stdout",
     "output_type": "stream",
     "text": [
      "Operating System: Linux 4.18.0-425.19.2.el8_7.x86_64\n",
      "PyTorch Version: 2.0.0\n",
      "CUDA Version: 11.8\n"
     ]
    }
   ],
   "source": [
    "import os\n",
    "import platform\n",
    "import torch\n",
    "\n",
    "print(\"Operating System:\", platform.system(), platform.release())\n",
    "print(\"PyTorch Version:\", torch.__version__)\n",
    "print(\"CUDA Version:\", torch.version.cuda)\n"
   ]
  },
  {
   "cell_type": "markdown",
   "id": "4255d8c7-d83a-4eac-9f33-104ab012b031",
   "metadata": {},
   "source": [
    "[Link to download hardware libraries](https://pytorch-geometric.readthedocs.io/en/latest/install/installation.html)"
   ]
  },
  {
   "cell_type": "code",
   "execution_count": 2,
   "id": "ad7ab0bd-b555-4495-8308-afd984d8321e",
   "metadata": {},
   "outputs": [],
   "source": [
    "import sys\n",
    "import torch\n",
    "import torch_geometric\n",
    "import numpy as np\n",
    "import pandas as pd\n",
    "import scanpy as sc\n",
    "import networkx as nx\n",
    "import matplotlib.pyplot as plt\n",
    "\n",
    "import pytorch_lightning as pl\n",
    "from pytorch_lightning.callbacks import EarlyStopping, ModelCheckpoint\n",
    "\n",
    "import torch.nn.functional as F\n",
    "from torch.optim.lr_scheduler import StepLR\n",
    "\n",
    "import torch_geometric.transforms as T\n",
    "from torch_geometric.data import HeteroData\n",
    "from torch_geometric.data.lightning import LightningNodeData, LightningDataset\n",
    "from torch_geometric.utils import from_scipy_sparse_matrix\n",
    "from torch_geometric.loader import DataLoader\n",
    "from torch_geometric.nn import HeteroConv, GCNConv, SAGEConv, GATConv, Linear, HGTConv\n"
   ]
  },
  {
   "cell_type": "markdown",
   "id": "c74434bb-338f-41a9-b62d-ededfd5725c3",
   "metadata": {},
   "source": [
    "### Data\n",
    "\n",
    "Data Source: Tabula Muris (link)"
   ]
  },
  {
   "cell_type": "code",
   "execution_count": 3,
   "id": "97a1b6f0-2bc3-458a-ac90-b879c3a72691",
   "metadata": {},
   "outputs": [],
   "source": [
    "DATA = '/hpc/projects/data_lg/samuel.dsouza/tabulaMuris/TabulaMurisBiohub.h5ad'"
   ]
  },
  {
   "cell_type": "markdown",
   "id": "625c92c0-0c61-42a9-a07f-35ce2ceda2cb",
   "metadata": {},
   "source": [
    "```\n",
    "AnnData object with n_obs × n_vars = 245389 × 20138\n",
    "    obs: 'age', 'cell', 'cell_ontology_class', 'cell_ontology_id', 'free_annotation', 'method', 'mouse.id', 'n_genes', 'sex', 'subtissue', 'tissue', 'tissue_free_annotation'\n",
    "    var: 'n_cells'\n",
    "```"
   ]
  },
  {
   "cell_type": "code",
   "execution_count": 4,
   "id": "4ae7bc78-c9e2-49e8-877b-669af761d4e1",
   "metadata": {},
   "outputs": [],
   "source": [
    "file = sc.read_h5ad(DATA)"
   ]
  },
  {
   "cell_type": "markdown",
   "id": "ead299c2-8fdc-4199-8c12-faeeae1802d4",
   "metadata": {},
   "source": [
    "# Preprocessing\n",
    "\n",
    "1. Check if data is normalized or not. If it is raw counts, normalize the data. \n",
    "2. Map cell ontology types to IDs.\n",
    "3. Compute the neighbours graph of the AnnData object.\n",
    "4. Acquire the adjacency matrix and use that as the edge index. \n",
    "5. Acquire `adata.X` and use that as the feature index. \n"
   ]
  },
  {
   "cell_type": "code",
   "execution_count": 5,
   "id": "1967a0dd-8931-49e0-a3e4-ad644589f0d2",
   "metadata": {
    "tags": []
   },
   "outputs": [],
   "source": [
    "def downsample_adata(adata, frac=0.1):\n",
    "    \"\"\"Downsample the AnnData object by selecting a fraction of cells.\"\"\"\n",
    "    n_samples = int(adata.n_obs * frac)\n",
    "    indices = np.random.choice(adata.n_obs, size=n_samples, replace=False)\n",
    "    return adata[indices].copy()\n",
    "\n",
    "\n",
    "def check_normalized(adata, threshold=1.01):\n",
    "    \"\"\"Check if the AnnData object is normalized and normalize if needed.\"\"\"\n",
    "    adata.layers[\"raw\"] = adata.X.copy()\n",
    "    sc.pp.normalize_total(adata, target_sum=1, inplace=True)\n",
    "    max_norm = adata.X.max()\n",
    "    if max_norm > threshold:\n",
    "        raise ValueError(f\"Data is not normalized. Maximum value after normalization: {max_norm}\")\n",
    "    adata.X = adata.layers[\"raw\"]\n",
    "\n",
    "\n",
    "def construct_edge_index(adata):\n",
    "    cells, genes = np.nonzero(adata.X)\n",
    "    edge_index = torch.tensor([cells, genes + adata.X.shape[0]], dtype=torch.long)\n",
    "    return edge_index\n",
    "\n",
    "\n",
    "def get_cell_type_annotations(adata):\n",
    "    annotations = adata.obs[\"cell_ontology_class\"]\n",
    "    categories = annotations.cat.categories\n",
    "    cell_types = [categories.get_loc(a) for a in annotations]\n",
    "    return cell_types\n",
    "\n",
    "def create_indices(num_cells, train_frac=0.8, val_frac=0.1):\n",
    "    indices = np.random.permutation(num_cells)\n",
    "    \n",
    "    train_size = int(num_cells * train_frac)\n",
    "    val_size = int(num_cells * val_frac)\n",
    "    \n",
    "    train_indices = indices[:train_size]\n",
    "    val_indices = indices[train_size:train_size + val_size]\n",
    "    test_indices = indices[train_size + val_size:]\n",
    "    \n",
    "    return train_indices, val_indices, test_indices\n",
    "\n",
    "def h5ad_to_pyg_data(adata, downsample=False):\n",
    "    \"\"\"\n",
    "    Convert an AnnData object to PyTorch Geometric HeteroData objects for training, validation, and testing.\n",
    "\n",
    "    Args:\n",
    "        adata (AnnData): The AnnData object.\n",
    "        downsample (bool): Whether to downsample the dataset.\n",
    "\n",
    "    Returns:\n",
    "        train_data (HeteroData), val_data (HeteroData), test_data (HeteroData): PyTorch Geometric HeteroData objects.\n",
    "    \"\"\"\n",
    "\n",
    "    # Downsample the dataset if requested\n",
    "    if downsample:\n",
    "        adata = downsample_adata(adata, frac=0.0001)\n",
    "    print(f'AnnData Size (GB): {sys.getsizeof(adata) / (1024 ** 3)}')\n",
    "\n",
    "    # Check if the data is normalized\n",
    "    check_normalized(adata)\n",
    "\n",
    "    # Create the train, validation, and test indices\n",
    "    train_indices, val_indices, test_indices = create_indices(adata.n_obs)\n",
    "\n",
    "    def create_hetero_data(indices):\n",
    "        data = HeteroData()\n",
    "\n",
    "        # Set the node features\n",
    "        data['cell'].x = torch.tensor(adata[indices].X.toarray(), dtype=torch.float)  # Convert sparse matrix to dense numpy array\n",
    "        data['gene'].x = torch.tensor(adata.var['n_cells'].values.reshape(-1, 1), dtype=torch.float)\n",
    "\n",
    "        # Set the edge index\n",
    "        data['cell', 'expr', 'gene'].edge_index = construct_edge_index(adata[indices])\n",
    "\n",
    "        # Set the cell type annotations\n",
    "        data['cell'].y = torch.tensor(get_cell_type_annotations(adata[indices]), dtype=torch.long)\n",
    "\n",
    "        return data\n",
    "\n",
    "    train_data = create_hetero_data(train_indices)\n",
    "    val_data = create_hetero_data(val_indices)\n",
    "    test_data = create_hetero_data(test_indices)\n",
    "\n",
    "    return train_data, val_data, test_data\n",
    "\n"
   ]
  },
  {
   "cell_type": "code",
   "execution_count": 6,
   "id": "f580f34f-8b5b-4749-ac55-16ea80ddb127",
   "metadata": {
    "tags": []
   },
   "outputs": [
    {
     "name": "stdout",
     "output_type": "stream",
     "text": [
      "AnnData Size (GB): 0.002223581075668335\n"
     ]
    },
    {
     "name": "stderr",
     "output_type": "stream",
     "text": [
      "/tmp/ipykernel_2383953/1521183460.py:20: UserWarning: Creating a tensor from a list of numpy.ndarrays is extremely slow. Please consider converting the list to a single numpy.ndarray with numpy.array() before converting to a tensor. (Triggered internally at /opt/conda/conda-bld/pytorch_1678402412426/work/torch/csrc/utils/tensor_new.cpp:245.)\n",
      "  edge_index = torch.tensor([cells, genes + adata.X.shape[0]], dtype=torch.long)\n"
     ]
    },
    {
     "data": {
      "text/plain": [
       "HeteroData(\n",
       "  \u001b[1mcell\u001b[0m={\n",
       "    x=[19, 20138],\n",
       "    y=[19]\n",
       "  },\n",
       "  \u001b[1mgene\u001b[0m={ x=[20138, 1] },\n",
       "  \u001b[1m(cell, expr, gene)\u001b[0m={ edge_index=[2, 42380] }\n",
       ")"
      ]
     },
     "execution_count": 6,
     "metadata": {},
     "output_type": "execute_result"
    }
   ],
   "source": [
    "# Convert the h5ad file to a PyTorch Geometric Data object\n",
    "train, val, test = h5ad_to_pyg_data(file, downsample=True)\n",
    "train"
   ]
  },
  {
   "cell_type": "markdown",
   "id": "25150e41-7002-42a7-8e9e-a3226d4666f7",
   "metadata": {},
   "source": [
    "### Unit Test\n",
    "\n",
    "**Validate HeteroData Object** "
   ]
  },
  {
   "cell_type": "code",
   "execution_count": 7,
   "id": "84d06b0f-e3b0-4333-bfb4-9bc14136138a",
   "metadata": {},
   "outputs": [
    {
     "name": "stdout",
     "output_type": "stream",
     "text": [
      "Cell features (x): 19\n",
      "Gene features (x): 20138\n",
      "Edge index: 2\n",
      "Cell type annotations (y): 19\n",
      "Metadata:  (['cell', 'gene'], [('cell', 'expr', 'gene')])\n"
     ]
    }
   ],
   "source": [
    "# Access the node features for cell and gene\n",
    "cell_x = train['cell'].x\n",
    "gene_x = train['gene'].x\n",
    "\n",
    "# Access the edge index for cell-gene expression relations\n",
    "edge_index = train['cell', 'expr', 'gene'].edge_index\n",
    "\n",
    "# Access the cell type annotations (labels)\n",
    "cell_y = train['cell'].y\n",
    "\n",
    "# Print the values\n",
    "print(\"Cell features (x):\", len(cell_x))\n",
    "print(\"Gene features (x):\", len(gene_x))\n",
    "print(\"Edge index:\", len(edge_index))\n",
    "print(\"Cell type annotations (y):\", len(cell_y))\n",
    "print(\"Metadata: \", train.metadata())"
   ]
  },
  {
   "cell_type": "code",
   "execution_count": 8,
   "id": "2943bb10-3305-4157-8e5b-93993f2777da",
   "metadata": {},
   "outputs": [],
   "source": [
    "# g = torch_geometric.utils.to_networkx(val_data.to_homogeneous())\n",
    "# nx.draw_networkx(g, with_labels=True)"
   ]
  },
  {
   "cell_type": "markdown",
   "id": "20e8f133-5196-432d-8c8c-af9d4a4d2e21",
   "metadata": {},
   "source": [
    "**Validate Gene Counts** "
   ]
  },
  {
   "cell_type": "code",
   "execution_count": 9,
   "id": "e843ded5-12a1-4f66-9ed9-37d2a0ce1c07",
   "metadata": {},
   "outputs": [
    {
     "data": {
      "image/png": "[encoded data removed]",
      "text/plain": [
       "<Figure size 640x480 with 1 Axes>"
      ]
     },
     "metadata": {},
     "output_type": "display_data"
    }
   ],
   "source": [
    "import numpy as np\n",
    "import matplotlib.pyplot as plt\n",
    "\n",
    "# Access the edge index for cell-gene expression relations\n",
    "edge_index = train['cell', 'expr', 'gene'].edge_index\n",
    "\n",
    "# Count gene occurrences per cell\n",
    "cell_indices, gene_counts = np.unique(edge_index[0].numpy(), return_counts=True)\n",
    "\n",
    "# Visualize the gene counts per cell using a histogram\n",
    "plt.hist(gene_counts, bins=30)\n",
    "plt.xlabel(\"Number of genes\")\n",
    "plt.ylabel(\"Number of cells\")\n",
    "plt.title(\"Gene counts per cell\")\n",
    "plt.show()"
   ]
  },
  {
   "cell_type": "code",
   "execution_count": 10,
   "id": "2d220f79-dc5d-4b87-a683-cf6d469e4760",
   "metadata": {},
   "outputs": [],
   "source": [
    "# train = train.to('cuda:0')\n",
    "# test = test.to('cuda:0')\n",
    "# val = val.to('cuda:0')\n",
    "\n",
    "dataset = LightningDataset(\n",
    "    train,\n",
    "    test,\n",
    "    val,\n",
    "    num_neighbors=[25, 10], # The number of neighbors to be considered in each layer of the GNN to be considered by the sampler\n",
    "    num_workers=4,\n",
    ")"
   ]
  },
  {
   "cell_type": "code",
   "execution_count": 11,
   "id": "509e1c8a-3f80-4811-bfaf-485434759cec",
   "metadata": {},
   "outputs": [
    {
     "data": {
      "text/plain": [
       "LightningDataset(train_dataset=HeteroData(\n",
       "  \u001b[1mcell\u001b[0m={\n",
       "    x=[19, 20138],\n",
       "    y=[19]\n",
       "  },\n",
       "  \u001b[1mgene\u001b[0m={ x=[20138, 1] },\n",
       "  \u001b[1m(cell, expr, gene)\u001b[0m={ edge_index=[2, 42380] }\n",
       "), val_dataset=HeteroData(\n",
       "  \u001b[1mcell\u001b[0m={\n",
       "    x=[3, 20138],\n",
       "    y=[3]\n",
       "  },\n",
       "  \u001b[1mgene\u001b[0m={ x=[20138, 1] },\n",
       "  \u001b[1m(cell, expr, gene)\u001b[0m={ edge_index=[2, 7108] }\n",
       "), test_dataset=HeteroData(\n",
       "  \u001b[1mcell\u001b[0m={\n",
       "    x=[2, 20138],\n",
       "    y=[2]\n",
       "  },\n",
       "  \u001b[1mgene\u001b[0m={ x=[20138, 1] },\n",
       "  \u001b[1m(cell, expr, gene)\u001b[0m={ edge_index=[2, 2126] }\n",
       "), num_neighbors=[25, 10], num_workers=4, batch_size=1, pin_memory=True, persistent_workers=True)"
      ]
     },
     "execution_count": 11,
     "metadata": {},
     "output_type": "execute_result"
    }
   ],
   "source": [
    "dataset"
   ]
  },
  {
   "cell_type": "markdown",
   "id": "97bd56ab-5dc4-431a-ab5b-2392c4190c2d",
   "metadata": {},
   "source": [
    "## Training Model"
   ]
  },
  {
   "cell_type": "code",
   "execution_count": 15,
   "id": "94319ae3-219e-4af0-88eb-507c0ebef205",
   "metadata": {},
   "outputs": [],
   "source": [
    "class HGT(pl.LightningModule):\n",
    "    def __init__(self, hidden_channels, out_channels, num_heads, num_layers):\n",
    "        super().__init__()\n",
    "\n",
    "        self.lin_dict = torch.nn.ModuleDict()\n",
    "        for node_type in ['cell', 'gene']:\n",
    "            self.lin_dict[node_type] = Linear(-1, hidden_channels)\n",
    "        self.convs = torch.nn.ModuleList()\n",
    "        for _ in range(num_layers):\n",
    "            conv = HGTConv(hidden_channels, hidden_channels, train.metadata(),\n",
    "                           num_heads, group='sum')\n",
    "            self.convs.append(conv)\n",
    "\n",
    "        self.lin = Linear(hidden_channels, out_channels)\n",
    "\n",
    "    def forward(self, x_dict, edge_index_dict):\n",
    "        for node_type, x in x_dict.items():\n",
    "            x_dict[node_type] = self.lin_dict[node_type](x).relu_()\n",
    "\n",
    "        for conv in self.convs:\n",
    "            x_dict = conv(x_dict, edge_index_dict)\n",
    "\n",
    "        return self.lin(x_dict[target])\n",
    "\n",
    "    def training_step(self, batch, batch_idx):\n",
    "        x_dict, edge_index_dict, y = batch\n",
    "        y_hat = self(x_dict, edge_index_dict)\n",
    "        loss = torch.nn.functional.cross_entropy(y_hat, y)\n",
    "        return loss\n",
    "\n",
    "    def validation_step(self, batch, batch_idx):\n",
    "        x_dict, edge_index_dict, y = batch\n",
    "        y_hat = self(x_dict, edge_index_dict)\n",
    "        loss = torch.nn.functional.cross_entropy(y_hat, y)\n",
    "        return {'val_loss': loss}\n",
    "\n",
    "    def configure_optimizers(self):\n",
    "        optimizer = torch.optim.Adam(self.parameters(), lr=1e-3)\n",
    "        return optimizer"
   ]
  },
  {
   "cell_type": "code",
   "execution_count": 16,
   "id": "74b765fb-3f86-44f0-90c7-b9d1ac32a633",
   "metadata": {},
   "outputs": [
    {
     "name": "stderr",
     "output_type": "stream",
     "text": [
      "GPU available: True (cuda), used: True\n",
      "TPU available: False, using: 0 TPU cores\n",
      "IPU available: False, using: 0 IPUs\n",
      "HPU available: False, using: 0 HPUs\n",
      "/home/samuel.dsouza/.conda/envs/gnn/lib/python3.9/site-packages/pytorch_lightning/trainer/connectors/logger_connector/logger_connector.py:67: UserWarning: Starting from v1.9.0, `tensorboardX` has been removed as a dependency of the `pytorch_lightning` package, due to potential conflicts with other packages in the ML ecosystem. For this reason, `logger=True` will use `CSVLogger` as the default logger, unless the `tensorboard` or `tensorboardX` packages are found. Please `pip install lightning[extra]` or one of them to enable TensorBoard support by default\n",
      "  warning_cache.warn(\n",
      "Initializing distributed: GLOBAL_RANK: 0, MEMBER: 1/1\n",
      "Initializing distributed: GLOBAL_RANK: 0, MEMBER: 1/1\n",
      "----------------------------------------------------------------------------------------------------\n",
      "distributed_backend=nccl\n",
      "All distributed processes registered. Starting with 1 processes\n",
      "----------------------------------------------------------------------------------------------------\n",
      "\n",
      "[W socket.cpp:426] [c10d] The server socket has failed to bind to [::]:18259 (errno: 98 - Address already in use).\n",
      "[W socket.cpp:426] [c10d] The server socket has failed to bind to 0.0.0.0:18259 (errno: 98 - Address already in use).\n",
      "[E socket.cpp:462] [c10d] The server socket has failed to listen on any local network address.\n"
     ]
    },
    {
     "ename": "ProcessRaisedException",
     "evalue": "\n\n-- Process 0 terminated with the following error:\nTraceback (most recent call last):\n  File \"/home/samuel.dsouza/.conda/envs/gnn/lib/python3.9/site-packages/torch/multiprocessing/spawn.py\", line 69, in _wrap\n    fn(i, *args)\n  File \"/home/samuel.dsouza/.conda/envs/gnn/lib/python3.9/site-packages/pytorch_lightning/strategies/launchers/multiprocessing.py\", line 147, in _wrapping_function\n    results = function(*args, **kwargs)\n  File \"/home/samuel.dsouza/.conda/envs/gnn/lib/python3.9/site-packages/pytorch_lightning/trainer/trainer.py\", line 559, in _fit_impl\n    self._run(model, ckpt_path=ckpt_path)\n  File \"/home/samuel.dsouza/.conda/envs/gnn/lib/python3.9/site-packages/pytorch_lightning/trainer/trainer.py\", line 893, in _run\n    self.strategy.setup_environment()\n  File \"/home/samuel.dsouza/.conda/envs/gnn/lib/python3.9/site-packages/pytorch_lightning/strategies/ddp.py\", line 143, in setup_environment\n    super().setup_environment()\n  File \"/home/samuel.dsouza/.conda/envs/gnn/lib/python3.9/site-packages/pytorch_lightning/strategies/strategy.py\", line 127, in setup_environment\n    self.accelerator.setup_device(self.root_device)\n  File \"/home/samuel.dsouza/.conda/envs/gnn/lib/python3.9/site-packages/pytorch_lightning/accelerators/cuda.py\", line 43, in setup_device\n    _check_cuda_matmul_precision(device)\n  File \"/home/samuel.dsouza/.conda/envs/gnn/lib/python3.9/site-packages/lightning_fabric/accelerators/cuda.py\", line 345, in _check_cuda_matmul_precision\n    major, _ = torch.cuda.get_device_capability(device)\n  File \"/home/samuel.dsouza/.conda/envs/gnn/lib/python3.9/site-packages/torch/cuda/__init__.py\", line 381, in get_device_capability\n    prop = get_device_properties(device)\n  File \"/home/samuel.dsouza/.conda/envs/gnn/lib/python3.9/site-packages/torch/cuda/__init__.py\", line 395, in get_device_properties\n    _lazy_init()  # will define _get_device_properties\n  File \"/home/samuel.dsouza/.conda/envs/gnn/lib/python3.9/site-packages/torch/cuda/__init__.py\", line 235, in _lazy_init\n    raise RuntimeError(\nRuntimeError: Cannot re-initialize CUDA in forked subprocess. To use CUDA with multiprocessing, you must use the 'spawn' start method\n",
     "output_type": "error",
     "traceback": [
      "\u001b[0;31m---------------------------------------------------------------------------\u001b[0m",
      "\u001b[0;31mProcessRaisedException\u001b[0m                    Traceback (most recent call last)",
      "Cell \u001b[0;32mIn[16], line 12\u001b[0m\n\u001b[1;32m     10\u001b[0m \u001b[38;5;66;03m# Create a PyTorch Lightning Trainer and train the model\u001b[39;00m\n\u001b[1;32m     11\u001b[0m trainer \u001b[38;5;241m=\u001b[39m pl\u001b[38;5;241m.\u001b[39mTrainer(max_epochs\u001b[38;5;241m=\u001b[39m\u001b[38;5;241m100\u001b[39m)\n\u001b[0;32m---> 12\u001b[0m \u001b[43mtrainer\u001b[49m\u001b[38;5;241;43m.\u001b[39;49m\u001b[43mfit\u001b[49m\u001b[43m(\u001b[49m\u001b[43mmodel\u001b[49m\u001b[43m,\u001b[49m\u001b[43m \u001b[49m\u001b[43mdatamodule\u001b[49m\u001b[38;5;241;43m=\u001b[39;49m\u001b[43mdataset\u001b[49m\u001b[43m)\u001b[49m\n",
      "File \u001b[0;32m~/.conda/envs/gnn/lib/python3.9/site-packages/pytorch_lightning/trainer/trainer.py:520\u001b[0m, in \u001b[0;36mTrainer.fit\u001b[0;34m(self, model, train_dataloaders, val_dataloaders, datamodule, ckpt_path)\u001b[0m\n\u001b[1;32m    518\u001b[0m model \u001b[38;5;241m=\u001b[39m _maybe_unwrap_optimized(model)\n\u001b[1;32m    519\u001b[0m \u001b[38;5;28mself\u001b[39m\u001b[38;5;241m.\u001b[39mstrategy\u001b[38;5;241m.\u001b[39m_lightning_module \u001b[38;5;241m=\u001b[39m model\n\u001b[0;32m--> 520\u001b[0m \u001b[43mcall\u001b[49m\u001b[38;5;241;43m.\u001b[39;49m\u001b[43m_call_and_handle_interrupt\u001b[49m\u001b[43m(\u001b[49m\n\u001b[1;32m    521\u001b[0m \u001b[43m    \u001b[49m\u001b[38;5;28;43mself\u001b[39;49m\u001b[43m,\u001b[49m\u001b[43m \u001b[49m\u001b[38;5;28;43mself\u001b[39;49m\u001b[38;5;241;43m.\u001b[39;49m\u001b[43m_fit_impl\u001b[49m\u001b[43m,\u001b[49m\u001b[43m \u001b[49m\u001b[43mmodel\u001b[49m\u001b[43m,\u001b[49m\u001b[43m \u001b[49m\u001b[43mtrain_dataloaders\u001b[49m\u001b[43m,\u001b[49m\u001b[43m \u001b[49m\u001b[43mval_dataloaders\u001b[49m\u001b[43m,\u001b[49m\u001b[43m \u001b[49m\u001b[43mdatamodule\u001b[49m\u001b[43m,\u001b[49m\u001b[43m \u001b[49m\u001b[43mckpt_path\u001b[49m\n\u001b[1;32m    522\u001b[0m \u001b[43m\u001b[49m\u001b[43m)\u001b[49m\n",
      "File \u001b[0;32m~/.conda/envs/gnn/lib/python3.9/site-packages/pytorch_lightning/trainer/call.py:42\u001b[0m, in \u001b[0;36m_call_and_handle_interrupt\u001b[0;34m(trainer, trainer_fn, *args, **kwargs)\u001b[0m\n\u001b[1;32m     40\u001b[0m \u001b[38;5;28;01mtry\u001b[39;00m:\n\u001b[1;32m     41\u001b[0m     \u001b[38;5;28;01mif\u001b[39;00m trainer\u001b[38;5;241m.\u001b[39mstrategy\u001b[38;5;241m.\u001b[39mlauncher \u001b[38;5;129;01mis\u001b[39;00m \u001b[38;5;129;01mnot\u001b[39;00m \u001b[38;5;28;01mNone\u001b[39;00m:\n\u001b[0;32m---> 42\u001b[0m         \u001b[38;5;28;01mreturn\u001b[39;00m \u001b[43mtrainer\u001b[49m\u001b[38;5;241;43m.\u001b[39;49m\u001b[43mstrategy\u001b[49m\u001b[38;5;241;43m.\u001b[39;49m\u001b[43mlauncher\u001b[49m\u001b[38;5;241;43m.\u001b[39;49m\u001b[43mlaunch\u001b[49m\u001b[43m(\u001b[49m\u001b[43mtrainer_fn\u001b[49m\u001b[43m,\u001b[49m\u001b[43m \u001b[49m\u001b[38;5;241;43m*\u001b[39;49m\u001b[43margs\u001b[49m\u001b[43m,\u001b[49m\u001b[43m \u001b[49m\u001b[43mtrainer\u001b[49m\u001b[38;5;241;43m=\u001b[39;49m\u001b[43mtrainer\u001b[49m\u001b[43m,\u001b[49m\u001b[43m \u001b[49m\u001b[38;5;241;43m*\u001b[39;49m\u001b[38;5;241;43m*\u001b[39;49m\u001b[43mkwargs\u001b[49m\u001b[43m)\u001b[49m\n\u001b[1;32m     43\u001b[0m     \u001b[38;5;28;01melse\u001b[39;00m:\n\u001b[1;32m     44\u001b[0m         \u001b[38;5;28;01mreturn\u001b[39;00m trainer_fn(\u001b[38;5;241m*\u001b[39margs, \u001b[38;5;241m*\u001b[39m\u001b[38;5;241m*\u001b[39mkwargs)\n",
      "File \u001b[0;32m~/.conda/envs/gnn/lib/python3.9/site-packages/pytorch_lightning/strategies/launchers/multiprocessing.py:124\u001b[0m, in \u001b[0;36m_MultiProcessingLauncher.launch\u001b[0;34m(self, function, trainer, *args, **kwargs)\u001b[0m\n\u001b[1;32m    116\u001b[0m process_context \u001b[38;5;241m=\u001b[39m mp\u001b[38;5;241m.\u001b[39mstart_processes(\n\u001b[1;32m    117\u001b[0m     \u001b[38;5;28mself\u001b[39m\u001b[38;5;241m.\u001b[39m_wrapping_function,\n\u001b[1;32m    118\u001b[0m     args\u001b[38;5;241m=\u001b[39mprocess_args,\n\u001b[0;32m   (...)\u001b[0m\n\u001b[1;32m    121\u001b[0m     join\u001b[38;5;241m=\u001b[39m\u001b[38;5;28;01mFalse\u001b[39;00m,  \u001b[38;5;66;03m# we will join ourselves to get the process references\u001b[39;00m\n\u001b[1;32m    122\u001b[0m )\n\u001b[1;32m    123\u001b[0m \u001b[38;5;28mself\u001b[39m\u001b[38;5;241m.\u001b[39mprocs \u001b[38;5;241m=\u001b[39m process_context\u001b[38;5;241m.\u001b[39mprocesses\n\u001b[0;32m--> 124\u001b[0m \u001b[38;5;28;01mwhile\u001b[39;00m \u001b[38;5;129;01mnot\u001b[39;00m \u001b[43mprocess_context\u001b[49m\u001b[38;5;241;43m.\u001b[39;49m\u001b[43mjoin\u001b[49m\u001b[43m(\u001b[49m\u001b[43m)\u001b[49m:\n\u001b[1;32m    125\u001b[0m     \u001b[38;5;28;01mpass\u001b[39;00m\n\u001b[1;32m    127\u001b[0m worker_output \u001b[38;5;241m=\u001b[39m return_queue\u001b[38;5;241m.\u001b[39mget()\n",
      "File \u001b[0;32m~/.conda/envs/gnn/lib/python3.9/site-packages/torch/multiprocessing/spawn.py:160\u001b[0m, in \u001b[0;36mProcessContext.join\u001b[0;34m(self, timeout)\u001b[0m\n\u001b[1;32m    158\u001b[0m msg \u001b[38;5;241m=\u001b[39m \u001b[38;5;124m\"\u001b[39m\u001b[38;5;130;01m\\n\u001b[39;00m\u001b[38;5;130;01m\\n\u001b[39;00m\u001b[38;5;124m-- Process \u001b[39m\u001b[38;5;132;01m%d\u001b[39;00m\u001b[38;5;124m terminated with the following error:\u001b[39m\u001b[38;5;130;01m\\n\u001b[39;00m\u001b[38;5;124m\"\u001b[39m \u001b[38;5;241m%\u001b[39m error_index\n\u001b[1;32m    159\u001b[0m msg \u001b[38;5;241m+\u001b[39m\u001b[38;5;241m=\u001b[39m original_trace\n\u001b[0;32m--> 160\u001b[0m \u001b[38;5;28;01mraise\u001b[39;00m ProcessRaisedException(msg, error_index, failed_process\u001b[38;5;241m.\u001b[39mpid)\n",
      "\u001b[0;31mProcessRaisedException\u001b[0m: \n\n-- Process 0 terminated with the following error:\nTraceback (most recent call last):\n  File \"/home/samuel.dsouza/.conda/envs/gnn/lib/python3.9/site-packages/torch/multiprocessing/spawn.py\", line 69, in _wrap\n    fn(i, *args)\n  File \"/home/samuel.dsouza/.conda/envs/gnn/lib/python3.9/site-packages/pytorch_lightning/strategies/launchers/multiprocessing.py\", line 147, in _wrapping_function\n    results = function(*args, **kwargs)\n  File \"/home/samuel.dsouza/.conda/envs/gnn/lib/python3.9/site-packages/pytorch_lightning/trainer/trainer.py\", line 559, in _fit_impl\n    self._run(model, ckpt_path=ckpt_path)\n  File \"/home/samuel.dsouza/.conda/envs/gnn/lib/python3.9/site-packages/pytorch_lightning/trainer/trainer.py\", line 893, in _run\n    self.strategy.setup_environment()\n  File \"/home/samuel.dsouza/.conda/envs/gnn/lib/python3.9/site-packages/pytorch_lightning/strategies/ddp.py\", line 143, in setup_environment\n    super().setup_environment()\n  File \"/home/samuel.dsouza/.conda/envs/gnn/lib/python3.9/site-packages/pytorch_lightning/strategies/strategy.py\", line 127, in setup_environment\n    self.accelerator.setup_device(self.root_device)\n  File \"/home/samuel.dsouza/.conda/envs/gnn/lib/python3.9/site-packages/pytorch_lightning/accelerators/cuda.py\", line 43, in setup_device\n    _check_cuda_matmul_precision(device)\n  File \"/home/samuel.dsouza/.conda/envs/gnn/lib/python3.9/site-packages/lightning_fabric/accelerators/cuda.py\", line 345, in _check_cuda_matmul_precision\n    major, _ = torch.cuda.get_device_capability(device)\n  File \"/home/samuel.dsouza/.conda/envs/gnn/lib/python3.9/site-packages/torch/cuda/__init__.py\", line 381, in get_device_capability\n    prop = get_device_properties(device)\n  File \"/home/samuel.dsouza/.conda/envs/gnn/lib/python3.9/site-packages/torch/cuda/__init__.py\", line 395, in get_device_properties\n    _lazy_init()  # will define _get_device_properties\n  File \"/home/samuel.dsouza/.conda/envs/gnn/lib/python3.9/site-packages/torch/cuda/__init__.py\", line 235, in _lazy_init\n    raise RuntimeError(\nRuntimeError: Cannot re-initialize CUDA in forked subprocess. To use CUDA with multiprocessing, you must use the 'spawn' start method\n"
     ]
    }
   ],
   "source": [
    "# Instantiate the HeteroGNN model\n",
    "hidden_channels = 32\n",
    "node_types = train['cell'].y.unique()\n",
    "target = 'cell'\n",
    "out_channels = len(train['cell'].y.unique())\n",
    "num_layers = 2\n",
    "num_heads = 2\n",
    "model = HGT(hidden_channels, out_channels, num_heads, num_layers)\n",
    "\n",
    "# Create a PyTorch Lightning Trainer and train the model\n",
    "trainer = pl.Trainer(max_epochs=100)\n",
    "trainer.fit(model, datamodule=dataset)"
   ]
  },
  {
   "cell_type": "code",
   "execution_count": null,
   "id": "cf8eb82e-02db-4e65-b771-7d6c2ed0799a",
   "metadata": {},
   "outputs": [],
   "source": [
    "# Test the model\n",
    "trainer.test(ckpt_path='best', datamodule=dataset)"
   ]
  },
  {
   "cell_type": "code",
   "execution_count": null,
   "id": "98cfe419-e760-4162-b77e-2c166b3fd793",
   "metadata": {},
   "outputs": [],
   "source": []
  }
 ],
 "metadata": {
  "kernelspec": {
   "display_name": "Python [conda env:.conda-gnn]",
   "language": "python",
   "name": "conda-env-.conda-gnn-py"
  },
  "language_info": {
   "codemirror_mode": {
    "name": "ipython",
    "version": 3
   },
   "file_extension": ".py",
   "mimetype": "text/x-python",
   "name": "python",
   "nbconvert_exporter": "python",
   "pygments_lexer": "ipython3",
   "version": "3.9.16"
  }
 },
 "nbformat": 4,
 "nbformat_minor": 5
}
